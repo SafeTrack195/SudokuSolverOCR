{
 "cells": [
  {
   "attachments": {},
   "cell_type": "markdown",
   "metadata": {},
   "source": [
    "# Imports"
   ]
  },
  {
   "cell_type": "code",
   "execution_count": 294,
   "metadata": {},
   "outputs": [],
   "source": [
    "import math\n",
    "from  itertools import chain\n",
    "import copy\n",
    "from pytictoc import TicToc"
   ]
  },
  {
   "cell_type": "code",
   "execution_count": 295,
   "metadata": {},
   "outputs": [],
   "source": [
    "# Defining grid\n",
    "\n",
    "grid = [\n",
    "[0, 5, 0, 4, 1, 0, 0, 0, 0],\n",
    "[0, 0, 0, 0, 0, 9, 0, 0, 0],\n",
    "[9, 0, 1, 2, 0, 6, 0, 0, 0],\n",
    "[2, 0, 0, 0, 6, 4, 1, 0, 0],\n",
    "[0, 0, 0, 8, 0, 0, 0, 0, 9],\n",
    "[0, 0, 0, 0, 7, 0, 8, 0, 3],\n",
    "[0, 0, 0, 7, 0, 0, 4, 0, 1],\n",
    "[0, 8, 0, 0, 0, 0, 0, 5, 0],\n",
    "[4, 0, 0, 3, 0, 0, 9, 0, 2],\n",
    "]"
   ]
  },
  {
   "cell_type": "code",
   "execution_count": 296,
   "metadata": {},
   "outputs": [],
   "source": [
    "def PlotGrid(grid):\n",
    "    for index,row in enumerate(grid):\n",
    "        if index%3==0:\n",
    "            print(\" ――――――― ――――――― ―――――――\")\n",
    "        print(\"| {} {} {} | {} {} {} | {} {} {} |\".format(*row))\n",
    "    print(\" ――――――― ――――――― ―――――――\")"
   ]
  },
  {
   "cell_type": "code",
   "execution_count": 297,
   "metadata": {},
   "outputs": [
    {
     "name": "stdout",
     "output_type": "stream",
     "text": [
      " ――――――― ――――――― ―――――――\n",
      "| 0 5 0 | 4 1 0 | 0 0 0 |\n",
      "| 0 0 0 | 0 0 9 | 0 0 0 |\n",
      "| 9 0 1 | 2 0 6 | 0 0 0 |\n",
      " ――――――― ――――――― ―――――――\n",
      "| 2 0 0 | 0 6 4 | 1 0 0 |\n",
      "| 0 0 0 | 8 0 0 | 0 0 9 |\n",
      "| 0 0 0 | 0 7 0 | 8 0 3 |\n",
      " ――――――― ――――――― ―――――――\n",
      "| 0 0 0 | 7 0 0 | 4 0 1 |\n",
      "| 0 8 0 | 0 0 0 | 0 5 0 |\n",
      "| 4 0 0 | 3 0 0 | 9 0 2 |\n",
      " ――――――― ――――――― ―――――――\n"
     ]
    }
   ],
   "source": [
    "PlotGrid(grid)"
   ]
  },
  {
   "cell_type": "code",
   "execution_count": 298,
   "metadata": {},
   "outputs": [],
   "source": [
    "def GetRow(grid, row):\n",
    "    return grid[row]"
   ]
  },
  {
   "cell_type": "code",
   "execution_count": 299,
   "metadata": {},
   "outputs": [
    {
     "data": {
      "text/plain": [
       "[0, 0, 0, 0, 0, 9, 0, 0, 0]"
      ]
     },
     "execution_count": 299,
     "metadata": {},
     "output_type": "execute_result"
    }
   ],
   "source": [
    "GetRow(grid,1)"
   ]
  },
  {
   "cell_type": "code",
   "execution_count": 300,
   "metadata": {},
   "outputs": [],
   "source": [
    "def GetColumn(grid, column):\n",
    "    columns = [ [] for _ in range(len(grid)) ]\n",
    "\n",
    "    for row in grid:\n",
    "        for index, columnvalue in enumerate(row):\n",
    "            columns[index] = columns[index] + [columnvalue]\n",
    "\n",
    "    return columns[column]"
   ]
  },
  {
   "cell_type": "code",
   "execution_count": 301,
   "metadata": {},
   "outputs": [
    {
     "data": {
      "text/plain": [
       "[0, 0, 9, 2, 0, 0, 0, 0, 4]"
      ]
     },
     "execution_count": 301,
     "metadata": {},
     "output_type": "execute_result"
    }
   ],
   "source": [
    "GetColumn(grid,0)"
   ]
  },
  {
   "cell_type": "code",
   "execution_count": 302,
   "metadata": {},
   "outputs": [],
   "source": [
    "def GetBlock(grid, block):\n",
    "    blocks = [ [ [] for _ in range(math.isqrt(len(grid))) ] for _ in range(len(grid)) ]\n",
    "    \n",
    "    for rowindex,row in enumerate(grid):\n",
    "        for columnindex, column in enumerate(row):\n",
    "            size_block = math.isqrt(len(grid))\n",
    "            blocks[math.floor(columnindex/size_block) + math.floor(rowindex/size_block)*3][(rowindex)%size_block] = blocks[math.floor(columnindex/size_block) + math.floor(rowindex/size_block)*3][(rowindex)%size_block] + [column]\n",
    "    \n",
    "    return blocks[block]"
   ]
  },
  {
   "cell_type": "code",
   "execution_count": 303,
   "metadata": {},
   "outputs": [
    {
     "name": "stdout",
     "output_type": "stream",
     "text": [
      "[[0, 5, 0], [0, 0, 0], [9, 0, 1]]\n",
      "[0, 5, 0]\n",
      "[0, 0, 0]\n",
      "[9, 0, 1]\n",
      "True\n"
     ]
    }
   ],
   "source": [
    "block = GetBlock(grid,0)\n",
    "print(block)\n",
    "for row in block:\n",
    "    print(row)\n",
    "\n",
    "print(5 in chain(*block))"
   ]
  },
  {
   "cell_type": "code",
   "execution_count": 307,
   "metadata": {},
   "outputs": [],
   "source": [
    "def CheckOptions(row,column,grid_original):\n",
    "    cell = grid_original[row][column]\n",
    "\n",
    "    options = [ i for i in range(1,len(grid_original)+1) ]\n",
    "\n",
    "    size_block = math.isqrt(len(grid_original))\n",
    "\n",
    "    if cell == 0:\n",
    "        for option in range(1,len(grid_original)+1):\n",
    "            if option in GetRow(grid_original,row):\n",
    "                options.remove(option)\n",
    "            elif option in GetColumn(grid_original,column):\n",
    "                options.remove(option)\n",
    "            elif option in chain(*GetBlock(grid_original,math.floor(column/size_block) + math.floor(row/size_block)*3)):\n",
    "                options.remove(option)\n",
    "        return options\n",
    "    else:\n",
    "        return None"
   ]
  },
  {
   "cell_type": "code",
   "execution_count": 308,
   "metadata": {},
   "outputs": [],
   "source": [
    "def Solved(grid):\n",
    "    for block in range(len(grid)):\n",
    "        result = GetBlock(grid,block)\n",
    "        if 0 in chain(*result):\n",
    "            return False\n",
    "            \n",
    "    return True"
   ]
  },
  {
   "cell_type": "code",
   "execution_count": 309,
   "metadata": {},
   "outputs": [
    {
     "name": "stdout",
     "output_type": "stream",
     "text": [
      "Elapsed time is 0.121694 seconds.\n",
      "11 iterations needed\n",
      "Original\n",
      " ――――――― ――――――― ―――――――\n",
      "| 0 5 0 | 4 1 0 | 0 0 0 |\n",
      "| 0 0 0 | 0 0 9 | 0 0 0 |\n",
      "| 9 0 1 | 2 0 6 | 0 0 0 |\n",
      " ――――――― ――――――― ―――――――\n",
      "| 2 0 0 | 0 6 4 | 1 0 0 |\n",
      "| 0 0 0 | 8 0 0 | 0 0 9 |\n",
      "| 0 0 0 | 0 7 0 | 8 0 3 |\n",
      " ――――――― ――――――― ―――――――\n",
      "| 0 0 0 | 7 0 0 | 4 0 1 |\n",
      "| 0 8 0 | 0 0 0 | 0 5 0 |\n",
      "| 4 0 0 | 3 0 0 | 9 0 2 |\n",
      " ――――――― ――――――― ―――――――\n",
      "\n",
      "Solution\n",
      " ――――――― ――――――― ―――――――\n",
      "| 3 5 6 | 4 1 7 | 2 9 8 |\n",
      "| 8 4 2 | 5 3 9 | 7 1 6 |\n",
      "| 9 7 1 | 2 8 6 | 5 3 4 |\n",
      " ――――――― ――――――― ―――――――\n",
      "| 2 3 8 | 9 6 4 | 1 7 5 |\n",
      "| 7 1 5 | 8 2 3 | 6 4 9 |\n",
      "| 6 9 4 | 1 7 5 | 8 2 3 |\n",
      " ――――――― ――――――― ―――――――\n",
      "| 5 2 3 | 7 9 8 | 4 6 1 |\n",
      "| 1 8 9 | 6 4 2 | 3 5 7 |\n",
      "| 4 6 7 | 3 5 1 | 9 8 2 |\n",
      " ――――――― ――――――― ―――――――\n"
     ]
    }
   ],
   "source": [
    "grid_adjusted = copy.deepcopy(grid)\n",
    "count = 0\n",
    "t = TicToc() #create instance of class\n",
    "\n",
    "t.tic() #Start timer\n",
    "while not Solved(grid_adjusted):\n",
    "    count += 1\n",
    "    for row in range(len(grid_adjusted)):\n",
    "        for column in range(len(grid_adjusted)):\n",
    "            options = CheckOptions(row, column, grid_adjusted)\n",
    "\n",
    "            if options != None and len(options) == 1:\n",
    "                grid_adjusted[row][column] = options[0]\n",
    "            \n",
    "t.toc() #Stop timer\n",
    "\n",
    "print(count, \"iterations needed\")\n",
    "print(\"Original\")\n",
    "PlotGrid(grid)\n",
    "print()\n",
    "print(\"Solution\")\n",
    "PlotGrid(grid_adjusted)\n"
   ]
  }
 ],
 "metadata": {
  "kernelspec": {
   "display_name": "SudokuSolverOCR",
   "language": "python",
   "name": "python3"
  },
  "language_info": {
   "codemirror_mode": {
    "name": "ipython",
    "version": 3
   },
   "file_extension": ".py",
   "mimetype": "text/x-python",
   "name": "python",
   "nbconvert_exporter": "python",
   "pygments_lexer": "ipython3",
   "version": "3.9.13"
  },
  "orig_nbformat": 4,
  "vscode": {
   "interpreter": {
    "hash": "9e6e6c0bced2492d2b1764fa6768ab682ccb6e3ab640cef2dbd520ea10aa9158"
   }
  }
 },
 "nbformat": 4,
 "nbformat_minor": 2
}
